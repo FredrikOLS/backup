{
 "cells": [
  {
   "cell_type": "code",
   "execution_count": 13,
   "id": "8e0668b6",
   "metadata": {},
   "outputs": [],
   "source": [
    "from unbinned_lkl import (\n",
    "    plot_counts_in_energy,\n",
    "    previous_limits,\n",
    "    FigSetup,\n",
    "    compute_ALP_absorption,\n",
    "    DifferentialCounts,\n",
    "    GridLikelihood\n",
    "    )\n",
    "\n",
    "\n",
    "%matplotlib inline\n",
    "import matplotlib.pyplot as plt\n",
    "import matplotlib as mpl\n",
    "plt.rc('xtick', labelsize=20)   \n",
    "plt.rc('ytick', labelsize=20)\n",
    "plt.rcParams['axes.linewidth'] = 2.5\n",
    "plt.rc('text', usetex=True)\n",
    "plt.rc('font', family='serif',size=25)\n",
    "\n",
    "from functools import partial\n",
    "from scipy.stats import chi2\n",
    "import numpy as np\n",
    "import astropy.units as u\n",
    "from pathlib import Path\n",
    "import scipy.integrate as integrate\n",
    "from astropy.coordinates import SkyCoord, Angle\n",
    "from regions import CircleSkyRegion\n",
    "from astropy.table import Table\n",
    "\n",
    "###########__________________________##############\n",
    "\n",
    "from gammapy.modeling import Fit\n",
    "import gammapy.irf as irf\n",
    "from gammapy.irf import load_cta_irfs\n",
    "from gammapy.data import Observation\n",
    "from gammapy.utils.random import get_random_state\n",
    " \n",
    "    \n",
    "    \n",
    "    ####-----------------------------------###\n",
    "    \n",
    "    \n",
    "    \n",
    "# models modules\n",
    "from gammapy.modeling.models import (\n",
    "    Model,\n",
    "    Models,\n",
    "    SkyModel,\n",
    "    PowerLawSpectralModel,\n",
    "    PowerLawNormSpectralModel,\n",
    "    PointSpatialModel,\n",
    "    GaussianSpatialModel,\n",
    "    TemplateSpatialModel,\n",
    "    FoVBackgroundModel,\n",
    "    SpectralModel,\n",
    "    Parameter, \n",
    "    TemplateSpectralModel\n",
    ")\n",
    "# dataset modules\n",
    "from gammapy.datasets import (\n",
    "    MapDataset, \n",
    "    MapDatasetOnOff, \n",
    "    MapDatasetEventSampler,\n",
    "    SpectrumDatasetOnOff,\n",
    "    SpectrumDataset, \n",
    "    Datasets\n",
    ")\n",
    "from gammapy.maps import MapAxis, WcsGeom, Map, MapCoord\n",
    "from gammapy.makers import MapDatasetMaker, SpectrumDatasetMaker\n",
    "\n",
    "\n",
    "\n",
    "\n",
    "\n",
    "from gammaALPs.core import Source, ALP, ModuleList\n",
    "from gammaALPs.base import environs, transfer"
   ]
  },
  {
   "cell_type": "code",
   "execution_count": 14,
   "id": "3a6050b2",
   "metadata": {},
   "outputs": [],
   "source": [
    "def compute_unbinned_likelihood(x, dnde,**kwargs):\n",
    "    s     = dnde.signal_edisp\n",
    "    marks = dnde.get_dnde(x,estimated=True)\n",
    "\n",
    "    return -s  + np.sum(np.log(marks))"
   ]
  },
  {
   "cell_type": "code",
   "execution_count": 15,
   "id": "8c2a49d7",
   "metadata": {},
   "outputs": [],
   "source": [
    "source     = Source(z = 0.017559, ra = '03h19m48.1s', dec = '+41d30m42s') # this is for ngc1275\n",
    "\n",
    "pin        = np.diag((1.,1.,0.)) * 0.5\n",
    "alp        = ALP(0,0) "
   ]
  },
  {
   "cell_type": "code",
   "execution_count": 16,
   "id": "b15d3e88",
   "metadata": {},
   "outputs": [
    {
     "name": "stderr",
     "output_type": "stream",
     "text": [
      "\u001b[0;36mbackground.py:\u001b[0;35m  97\u001b[0;0m --- \u001b[1;31mWARNING\u001b[1;0m: Invalid unit found in background table! Assuming (s-1 MeV-1 sr-1)\n"
     ]
    }
   ],
   "source": [
    "pointing = SkyCoord(150.58 ,-13.26 , frame=\"icrs\", unit=\"deg\")\n",
    "livetime = 5 * u.hr\n",
    "irfs     = load_cta_irfs(\"C:/Users/fredr/gammapy-tutorials/datasets/cta-1dc/caldb/data/cta/1dc/bcf/South_z20_50h/irf_file.fits\")\n",
    "observation = Observation.create( pointing=pointing, livetime=livetime, irfs=irfs)"
   ]
  },
  {
   "cell_type": "code",
   "execution_count": 18,
   "id": "f1e95733",
   "metadata": {
    "scrolled": true
   },
   "outputs": [
    {
     "ename": "NameError",
     "evalue": "name 'enpoints' is not defined",
     "output_type": "error",
     "traceback": [
      "\u001b[1;31m---------------------------------------------------------------------------\u001b[0m",
      "\u001b[1;31mNameError\u001b[0m                                 Traceback (most recent call last)",
      "\u001b[1;32m<ipython-input-18-ee7213441eb2>\u001b[0m in \u001b[0;36m<module>\u001b[1;34m\u001b[0m\n\u001b[0;32m     81\u001b[0m \u001b[1;33m\u001b[0m\u001b[0m\n\u001b[0;32m     82\u001b[0m     \u001b[1;31m# We build the Source Model combining a Spectral and Spatial model\u001b[0m\u001b[1;33m\u001b[0m\u001b[1;33m\u001b[0m\u001b[0m\n\u001b[1;32m---> 83\u001b[1;33m \u001b[0mspectral_model\u001b[0m      \u001b[1;33m=\u001b[0m \u001b[0mTemplateSpectralModel\u001b[0m\u001b[1;33m(\u001b[0m\u001b[0menpoints\u001b[0m\u001b[1;33m*\u001b[0m\u001b[0mu\u001b[0m\u001b[1;33m.\u001b[0m\u001b[0mUnit\u001b[0m\u001b[1;33m(\u001b[0m\u001b[1;34m\"GeV\"\u001b[0m\u001b[1;33m)\u001b[0m\u001b[1;33m,\u001b[0m\u001b[0mALP_PWL_flux\u001b[0m \u001b[1;33m,\u001b[0m\u001b[0minterp_kwargs\u001b[0m\u001b[1;33m=\u001b[0m\u001b[1;33m{\u001b[0m\u001b[1;34m\"method\"\u001b[0m\u001b[1;33m:\u001b[0m \u001b[1;34m\"linear\"\u001b[0m\u001b[1;33m}\u001b[0m\u001b[1;33m)\u001b[0m\u001b[1;33m\u001b[0m\u001b[0m\n\u001b[0m\u001b[0;32m     84\u001b[0m \u001b[0mspatial_model_point\u001b[0m \u001b[1;33m=\u001b[0m \u001b[0mPointSpatialModel\u001b[0m\u001b[1;33m(\u001b[0m\u001b[0mlon_0\u001b[0m\u001b[1;33m=\u001b[0m\u001b[1;34m\"150.58 deg\"\u001b[0m\u001b[1;33m,\u001b[0m \u001b[0mlat_0\u001b[0m\u001b[1;33m=\u001b[0m\u001b[1;34m\"-13.26 deg\"\u001b[0m\u001b[1;33m,\u001b[0m \u001b[0mframe\u001b[0m\u001b[1;33m=\u001b[0m\u001b[1;34m\"icrs\"\u001b[0m\u001b[1;33m)\u001b[0m\u001b[1;33m\u001b[0m\u001b[0m\n\u001b[0;32m     85\u001b[0m \u001b[0msky_model_pntpwl\u001b[0m    \u001b[1;33m=\u001b[0m \u001b[0mSkyModel\u001b[0m\u001b[1;33m(\u001b[0m\u001b[0mspectral_model\u001b[0m\u001b[1;33m=\u001b[0m\u001b[0mspectral_model\u001b[0m\u001b[1;33m,\u001b[0m\u001b[0mspatial_model\u001b[0m\u001b[1;33m=\u001b[0m\u001b[0mspatial_model_point\u001b[0m\u001b[1;33m,\u001b[0m \u001b[0mname\u001b[0m\u001b[1;33m=\u001b[0m\u001b[1;34m\"point-pwl\"\u001b[0m\u001b[1;33m)\u001b[0m\u001b[1;33m\u001b[0m\u001b[0m\n",
      "\u001b[1;31mNameError\u001b[0m: name 'enpoints' is not defined"
     ]
    }
   ],
   "source": [
    "#runs=2\n",
    "#i=1\n",
    "for i in range (1,1):\n",
    "    modulelist0 = ModuleList(alp, source, pin = pin)\n",
    "    modulelist0.add_propagation(\"ICMGaussTurb\", \n",
    "              0, # position of module counted from the source. \n",
    "              nsim = 3, # number of random B-field realizations\n",
    "              B0 = 10.,  # rms of B field\n",
    "              n0 = 39.,  # normalization of electron density\n",
    "              n2 = 4.05, # second normalization of electron density, see Churazov et al. 2003, Eq. 4\n",
    "              r_abell = 500., # extension of the cluster\n",
    "              r_core = 80.,   # electron density parameter, see Churazov et al. 2003, Eq. 4\n",
    "              r_core2 = 280., # electron density parameter, see Churazov et al. 2003, Eq. 4\n",
    "              beta = 1.2,  # electron density parameter, see Churazov et al. 2003, Eq. 4\n",
    "              beta2= 0.58, # electron density parameter, see Churazov et al. 2003, Eq. 4\n",
    "              eta = 0.5, # scaling of B-field with electron denstiy\n",
    "              kL = 0.18, # maximum turbulence scale in kpc^-1, taken from A2199 cool-core cluster, see Vacca et al. 2012 \n",
    "              kH = 9.,  # minimum turbulence scale, taken from A2199 cool-core cluster, see Vacca et al. 2012\n",
    "              q = -2.80, # turbulence spectral index, taken from A2199 cool-core cluster, see Vacca et al. 2012\n",
    "              seed=0 # random seed for reproducability, set to None for random seed.\n",
    "             )\n",
    "    modulelist0.add_propagation(\"EBL\",1, model = 'dominguez') # EBL attenuation comes second, after beam has left cluster\n",
    "    modulelist0.add_propagation(\"GMF\",2, model = 'jansson12', model_sum = 'ASS') # finally, the beam enters the Milky Way Field\n",
    "    \n",
    "    \n",
    "    \n",
    "    \n",
    "    \n",
    "    \n",
    "    \n",
    "    \n",
    "    \n",
    "    \n",
    "    PWL_index = 2.11 # spectral index of the PWL\n",
    "    E0        = 300 # GeV\n",
    "    Ecut      = 560 # GeV\n",
    "    amplitude = 1.54 * 1e-9* u.Unit(\"TeV-1 cm-2 s-1\") # 10e-6 \n",
    "\n",
    "    true_m = 30 * u.eV\n",
    "    true_g = 0.5 * 1/u.GeV\n",
    "\n",
    "    enpoints, pgg   = compute_ALP_absorption(\n",
    "                    modulelist = modulelist0, # modulelist from gammaALP\n",
    "                    axion_mass = true_m, # neV\n",
    "                    coupling   = true_g , # 10^(-11) /GeV\n",
    "                    emin       = 10,  # Gev\n",
    "                    emax       = 1e5, # GeV\n",
    "                    bins       = 200) # log-bins in enrgy for which computing the ALP-absorption\n",
    "\n",
    "    enpoints, pggEBL = compute_ALP_absorption(\n",
    "                    modulelist = modulelist0, # modulelist from gammaALP\n",
    "                    axion_mass = 0*u.neV, # neV\n",
    "                    coupling   = 0*1e-11/u.GeV , # 10^(-11) /GeV\n",
    "                    emin       = 10,  # Gev\n",
    "                    emax       = 1e5, # GeV\n",
    "                    bins       = 200) # log-bins in enrgy for which computing the ALP-absorption\n",
    "\n",
    "    pgg  *= np.sum(pggEBL)/np.sum(pgg)\n",
    "\n",
    "    PWL_flux        = amplitude*(enpoints/E0)**(-PWL_index)*np.exp(-enpoints/Ecut)\n",
    "\n",
    "    EBL_PWL_flux    = amplitude*pggEBL*(enpoints/E0)**(-PWL_index)*np.exp(-enpoints/Ecut)\n",
    "\n",
    "    ALP_PWL_flux    = amplitude*pgg*(enpoints/E0)**(-PWL_index)*np.exp(-enpoints/Ecut)\n",
    "\n",
    "    #################################PLOT FLUX###############################\n",
    "#plt.figure(figsize=(13,8))\n",
    "#plt.grid(True,which='both',linewidth=0.3)\n",
    "#plt.ylabel(r'$d\\Phi / dE$  [TeV-1 cm-2 s-1]',size=30)\n",
    "#plt.xlabel('E [GeV]',size=30)\n",
    "#plt.xlim([1e1,1e4])\n",
    "#plt.ylim([1e-13,4e-6])\n",
    "#plt.xscale(\"log\")\n",
    "#plt.yscale(\"log\")\n",
    "    \n",
    "#plt.plot(enpoints, ALP_PWL_flux,color=\"black\", \n",
    "#          )\n",
    "\n",
    "    #################################PLOT FLUX####################################\n",
    "    \n",
    "    \n",
    "    # We build the Source Model combining a Spectral and Spatial model\n",
    "spectral_model      = TemplateSpectralModel(enpoints*u.Unit(\"GeV\"),ALP_PWL_flux ,interp_kwargs={\"method\": \"linear\"}) \n",
    "spatial_model_point = PointSpatialModel(lon_0=\"150.58 deg\", lat_0=\"-13.26 deg\", frame=\"icrs\")\n",
    "sky_model_pntpwl    = SkyModel(spectral_model=spectral_model,spatial_model=spatial_model_point, name=\"point-pwl\")\n",
    "# we are not interested for now in simulateing the bkg so we comment this part\n",
    "#bkg_model           = FoVBackgroundModel(dataset_name=\"my-dataset\")\n",
    "\n",
    "# finally we combine source and bkg models\n",
    "models              = Models([sky_model_pntpwl]) # , bkg_model] )\n",
    "\n",
    "energy_axis      = MapAxis.from_energy_bounds( \"0.01 TeV\", \"100 TeV\", nbin=15, per_decade=True, name=\"energy\" )\n",
    "energy_axis_true = MapAxis.from_energy_bounds( \"0.01 TeV\", \"100 TeV\", nbin=45, per_decade=True, name=\"energy_true\")\n",
    "migra_axis       = MapAxis.from_bounds(0.5, 2, nbin=150, node_type=\"edges\", name=\"migra\")\n",
    "\n",
    "#  MapDatase\n",
    "geom     = WcsGeom.create(frame=\"icrs\", skydir=pointing, width=(2, 2), binsz=0.02, axes=[energy_axis])\n",
    "d_empty  = MapDatasetOnOff.create( geom, energy_axis_true=energy_axis_true, migra_axis=migra_axis, name=\"my-dataset\")\n",
    "maker    = MapDatasetMaker(selection=[\"exposure\",\"edisp\"]) # \"background\" \n",
    "dataset  = maker.run(d_empty, observation)\n",
    "dataset.models = models\n",
    "\n",
    "\n",
    "\n",
    "###########DNDE###########\n",
    "dnde  = DifferentialCounts(dataset)\n",
    "\n",
    "# We Print the expected number of events in both true and estimated energy\n",
    "print(\"Total expected counts of signal events in true energy : \"+str(dnde.signal))\n",
    "print(\"Total expected counts of signal events in estimated energy : \"+str(dnde.signal_edisp))\n",
    "\n",
    "# WE SIMULATE THE EVENTS\n",
    "envents_list = dnde.simulate_energies(estimated=True) # False if edisp effects are not considered\n",
    "print(len(envents_list))\n",
    "\n",
    "# WE PLOT THE SIMULATE COUNTS\n",
    "fig, ax = plt.subplots(figsize=(15,10))\n",
    "#Emin, Emax    = np.min(envents_list), np.max(envents_list)\n",
    "#plot_dict = dict(color='black',label=\"Observed dN/dE\")\n",
    "#ax      = plot_counts_in_energy(ax,envents_list.value, Emin.value,Emax.value,en_bins=50,**plot_dict)\n",
    "\n",
    "#AND WE ALSO PLOT THE PREDICTED dN/dE\n",
    "px,py,pa = modulelist0.run(multiprocess=2)\n",
    "\n",
    "\n",
    "\n",
    "plot_dict = dict(color='black',linewidth=2,alpha=0.8,label=\"dN/dE in Estimated Energy\")\n",
    "ax, _ = dnde.plot(ax=ax,fig=fig,estimated=True,**plot_dict)\n",
    "\n",
    "ax.set_ylim(bottom=1e-1)\n",
    "ax.set_xlim([1e-2,1e1])\n",
    "ax.legend(fontsize=20)"
   ]
  },
  {
   "cell_type": "code",
   "execution_count": null,
   "id": "ae2fcab2",
   "metadata": {},
   "outputs": [],
   "source": []
  },
  {
   "cell_type": "code",
   "execution_count": 19,
   "id": "ac4e411f",
   "metadata": {},
   "outputs": [
    {
     "name": "stderr",
     "output_type": "stream",
     "text": [
      "\u001b[0;36menvirons.py:\u001b[0;35m 431\u001b[0;0m --- \u001b[1;36m\u001b[1;36mINFO\u001b[1;0m\u001b[1;0m: Using inputted chi\n",
      "\u001b[0;36menvirons.py:\u001b[0;35m1039\u001b[0;0m --- \u001b[1;36m\u001b[1;36mINFO\u001b[1;0m\u001b[1;0m: Using inputted chi\n"
     ]
    }
   ],
   "source": [
    "modulelist1 = ModuleList(alp, source, pin = pin)\n",
    "modulelist1.add_propagation(\"ICMGaussTurb\", \n",
    "              0, # position of module counted from the source. \n",
    "              nsim = 10, # number of random B-field realizations\n",
    "              B0 = 10.,  # rms of B field\n",
    "              n0 = 39.,  # normalization of electron density\n",
    "              n2 = 4.05, # second normalization of electron density, see Churazov et al. 2003, Eq. 4\n",
    "              r_abell = 500., # extension of the cluster\n",
    "              r_core = 80.,   # electron density parameter, see Churazov et al. 2003, Eq. 4\n",
    "              r_core2 = 280., # electron density parameter, see Churazov et al. 2003, Eq. 4\n",
    "              beta = 1.2,  # electron density parameter, see Churazov et al. 2003, Eq. 4\n",
    "              beta2= 0.58, # electron density parameter, see Churazov et al. 2003, Eq. 4\n",
    "              eta = 0.5, # scaling of B-field with electron denstiy\n",
    "              kL = 0.18, # maximum turbulence scale in kpc^-1, taken from A2199 cool-core cluster, see Vacca et al. 2012 \n",
    "              kH = 9.,  # minimum turbulence scale, taken from A2199 cool-core cluster, see Vacca et al. 2012\n",
    "              q = -2.80, # turbulence spectral index, taken from A2199 cool-core cluster, see Vacca et al. 2012\n",
    "              seed=0 # random seed for reproducability, set to None for random seed.\n",
    "             )\n",
    "modulelist1.add_propagation(\"EBL\",1, model = 'dominguez') # EBL attenuation comes second, after beam has left cluster\n",
    "modulelist1.add_propagation(\"GMF\",2, model = 'jansson12', model_sum = 'ASS') # finally, the beam enters the Milky Way Field\n",
    "    "
   ]
  },
  {
   "cell_type": "code",
   "execution_count": 20,
   "id": "d001561a",
   "metadata": {},
   "outputs": [
    {
     "name": "stdout",
     "output_type": "stream",
     "text": [
      "['MixICMGaussTurb', 'OptDepth', 'MixGMF']\n"
     ]
    }
   ],
   "source": [
    "print(modulelist1.modules.keys())"
   ]
  },
  {
   "cell_type": "code",
   "execution_count": 21,
   "id": "b71ecccb",
   "metadata": {},
   "outputs": [
    {
     "name": "stderr",
     "output_type": "stream",
     "text": [
      "\u001b[0;36m   core.py:\u001b[0;35m 644\u001b[0;0m --- \u001b[1;36m\u001b[1;36mINFO\u001b[1;0m\u001b[1;0m: Running Module 0: <class 'gammaALPs.base.environs.MixICMGaussTurb'>\n",
      "\u001b[0;36m   core.py:\u001b[0;35m 644\u001b[0;0m --- \u001b[1;36m\u001b[1;36mINFO\u001b[1;0m\u001b[1;0m: Running Module 2: <class 'gammaALPs.base.environs.MixGMF'>\n"
     ]
    }
   ],
   "source": [
    "px1,py1,pa1 = modulelist1.run(multiprocess=2)\n"
   ]
  },
  {
   "cell_type": "code",
   "execution_count": null,
   "id": "06089f7a",
   "metadata": {},
   "outputs": [],
   "source": [
    "P=px1+py1\n",
    "\n",
    "EGeV = np.logspace(1.,3.5,250)\n",
    "#print(modulelist1.EGeV.shape)\n",
    "#print(P)\n",
    "a=0\n",
    "pold=0\n",
    "#DP=pold-pnew\n",
    "#plt.plot(P,DP)\n",
    "for p in P:\n",
    "    pnew=modulelist1.EGeV\n",
    "    DP=pold-pnew\n",
    "    pold=modulelist1.EGeV\n",
    "#DP1=\n",
    "    #plt.subplot()\n",
    "    plt.semilogx(modulelist1.EGeV,p)\n",
    "    #print(DP)\n",
    "    #a+=1"
   ]
  },
  {
   "cell_type": "code",
   "execution_count": null,
   "id": "9f21af37",
   "metadata": {},
   "outputs": [],
   "source": [
    "#dictionary of functions for different B field realizations\n",
    "ndict={}\n",
    "i=0\n",
    "for p in P:\n",
    "    ndict[i]=modulelist1.EGeV\n",
    "    i+=1\n",
    "len(ndict)\n",
    "print(ndict)"
   ]
  },
  {
   "cell_type": "code",
   "execution_count": null,
   "id": "e41d8cd9",
   "metadata": {},
   "outputs": [],
   "source": [
    "#compare individual values for every point\n",
    "Ndict={}\n",
    "for p in P:\n",
    "    "
   ]
  },
  {
   "cell_type": "code",
   "execution_count": null,
   "id": "2725bebe",
   "metadata": {},
   "outputs": [],
   "source": []
  },
  {
   "cell_type": "code",
   "execution_count": null,
   "id": "efc70e3e",
   "metadata": {},
   "outputs": [],
   "source": [
    "from gammaALPs.core import Source, ALP, ModuleList\n",
    "from gammaALPs.base import environs, transfer\n",
    "import numpy as np\n",
    "import matplotlib.pyplot as plt\n",
    "from matplotlib.patheffects import withStroke\n",
    "from ebltable.tau_from_model import OptDepth\n",
    "from astropy import constants as c\n",
    "\n",
    "%matplotlib inline"
   ]
  },
  {
   "cell_type": "code",
   "execution_count": null,
   "id": "17a3c673",
   "metadata": {},
   "outputs": [],
   "source": [
    "m, g = 1.,1.\n",
    "alp = ALP(m,g)"
   ]
  },
  {
   "cell_type": "code",
   "execution_count": 6,
   "id": "6e040451",
   "metadata": {},
   "outputs": [
    {
     "name": "stdout",
     "output_type": "stream",
     "text": [
      "0.017559\n",
      "49.950416666666655 41.51166666666666\n",
      "150.57567432060083 -13.26134354429635\n"
     ]
    }
   ],
   "source": [
    "ngc1275 = Source(z = 0.017559, ra = '03h19m48.1s', dec = '+41d30m42s')\n",
    "print (ngc1275.z)\n",
    "print (ngc1275.ra, ngc1275.dec)\n",
    "print (ngc1275.l, ngc1275.b)\n"
   ]
  },
  {
   "cell_type": "code",
   "execution_count": 7,
   "id": "2f171aa0",
   "metadata": {},
   "outputs": [],
   "source": [
    "\n",
    "EGeV = np.logspace(1.,3.5,250)"
   ]
  },
  {
   "cell_type": "code",
   "execution_count": 8,
   "id": "d4364322",
   "metadata": {},
   "outputs": [],
   "source": [
    "\n",
    "pin = np.diag((1.,1.,0.)) * 0.5"
   ]
  },
  {
   "cell_type": "code",
   "execution_count": 9,
   "id": "523c5ec3",
   "metadata": {},
   "outputs": [],
   "source": [
    "m = ModuleList(alp, ngc1275, pin = pin, EGeV = EGeV)\n",
    "m.alp.m = 30.\n",
    "m.alp.g = 0.5"
   ]
  },
  {
   "cell_type": "code",
   "execution_count": 10,
   "id": "0da96ec5",
   "metadata": {},
   "outputs": [
    {
     "name": "stderr",
     "output_type": "stream",
     "text": [
      "\u001b[0;36menvirons.py:\u001b[0;35m 431\u001b[0;0m --- \u001b[1;36mINFO\u001b[1;0m: Using inputted chi\n",
      "\u001b[0;36menvirons.py:\u001b[0;35m1039\u001b[0;0m --- \u001b[1;36mINFO\u001b[1;0m: Using inputted chi\n"
     ]
    }
   ],
   "source": [
    "m.add_propagation(\"ICMGaussTurb\", \n",
    "                  0, # position of module counted from the source. \n",
    "                  nsim = 10, # number of random B-field realizations\n",
    "                  B0 = 10.,  # rms of B field\n",
    "                  n0 = 39.,  # normalization of electron density\n",
    "                  n2 = 4.05, # second normalization of electron density, see Churazov et al. 2003, Eq. 4\n",
    "                  r_abell = 500., # extension of the cluster\n",
    "                  r_core = 80.,   # electron density parameter, see Churazov et al. 2003, Eq. 4\n",
    "                  r_core2 = 280., # electron density parameter, see Churazov et al. 2003, Eq. 4\n",
    "                  beta = 1.2,  # electron density parameter, see Churazov et al. 2003, Eq. 4\n",
    "                  beta2= 0.58, # electron density parameter, see Churazov et al. 2003, Eq. 4\n",
    "                  eta = 0.5, # scaling of B-field with electron denstiy\n",
    "                  kL = 0.18, # maximum turbulence scale in kpc^-1, taken from A2199 cool-core cluster, see Vacca et al. 2012 \n",
    "                  kH = 9.,  # minimum turbulence scale, taken from A2199 cool-core cluster, see Vacca et al. 2012\n",
    "                  q = -2.80, # turbulence spectral index, taken from A2199 cool-core cluster, see Vacca et al. 2012\n",
    "                  seed=0 # random seed for reproducability, set to None for random seed.\n",
    "                 )\n",
    "m.add_propagation(\"EBL\",1, model = 'dominguez') # EBL attenuation comes second, after beam has left cluster\n",
    "m.add_propagation(\"GMF\",2, model = 'jansson12', model_sum = 'ASS') # finally, the beam enters the Milky Way Field"
   ]
  },
  {
   "cell_type": "code",
   "execution_count": 11,
   "id": "cb2b49e5",
   "metadata": {},
   "outputs": [
    {
     "name": "stderr",
     "output_type": "stream",
     "text": [
      "\u001b[0;36m   core.py:\u001b[0;35m 644\u001b[0;0m --- \u001b[1;36mINFO\u001b[1;0m: Running Module 0: <class 'gammaALPs.base.environs.MixICMGaussTurb'>\n",
      "\u001b[0;36m   core.py:\u001b[0;35m 644\u001b[0;0m --- \u001b[1;36mINFO\u001b[1;0m: Running Module 2: <class 'gammaALPs.base.environs.MixGMF'>\n"
     ]
    }
   ],
   "source": [
    "px,py,pa = m.run(multiprocess=2)"
   ]
  },
  {
   "cell_type": "code",
   "execution_count": 12,
   "id": "c4e228de",
   "metadata": {},
   "outputs": [
    {
     "name": "stdout",
     "output_type": "stream",
     "text": [
      "(10, 250)\n",
      "0.4926360378536917\n",
      "0.6594845729548637\n"
     ]
    },
    {
     "ename": "NameError",
     "evalue": "name 'withStroke' is not defined",
     "output_type": "error",
     "traceback": [
      "\u001b[1;31m---------------------------------------------------------------------------\u001b[0m",
      "\u001b[1;31mNameError\u001b[0m                                 Traceback (most recent call last)",
      "\u001b[1;32m<ipython-input-12-c0351dcee912>\u001b[0m in \u001b[0;36m<module>\u001b[1;34m\u001b[0m\n\u001b[0;32m      4\u001b[0m \u001b[0mprint\u001b[0m \u001b[1;33m(\u001b[0m\u001b[0mnp\u001b[0m\u001b[1;33m.\u001b[0m\u001b[0mmin\u001b[0m\u001b[1;33m(\u001b[0m\u001b[0mnp\u001b[0m\u001b[1;33m.\u001b[0m\u001b[0mmedian\u001b[0m\u001b[1;33m(\u001b[0m\u001b[0mpgg\u001b[0m\u001b[1;33m,\u001b[0m \u001b[0maxis\u001b[0m \u001b[1;33m=\u001b[0m \u001b[1;36m0\u001b[0m\u001b[1;33m)\u001b[0m\u001b[1;33m)\u001b[0m\u001b[1;33m)\u001b[0m\u001b[1;33m\u001b[0m\u001b[0m\n\u001b[0;32m      5\u001b[0m \u001b[0mprint\u001b[0m \u001b[1;33m(\u001b[0m\u001b[0mnp\u001b[0m\u001b[1;33m.\u001b[0m\u001b[0mmin\u001b[0m\u001b[1;33m(\u001b[0m\u001b[0mnp\u001b[0m\u001b[1;33m.\u001b[0m\u001b[0mmax\u001b[0m\u001b[1;33m(\u001b[0m\u001b[0mpgg\u001b[0m\u001b[1;33m,\u001b[0m \u001b[0maxis\u001b[0m \u001b[1;33m=\u001b[0m \u001b[1;36m0\u001b[0m\u001b[1;33m)\u001b[0m\u001b[1;33m)\u001b[0m\u001b[1;33m)\u001b[0m\u001b[1;33m\u001b[0m\u001b[0m\n\u001b[1;32m----> 6\u001b[1;33m \u001b[0meffect\u001b[0m \u001b[1;33m=\u001b[0m \u001b[0mdict\u001b[0m\u001b[1;33m(\u001b[0m\u001b[0mpath_effects\u001b[0m\u001b[1;33m=\u001b[0m\u001b[1;33m[\u001b[0m\u001b[0mwithStroke\u001b[0m\u001b[1;33m(\u001b[0m\u001b[0mforeground\u001b[0m\u001b[1;33m=\u001b[0m\u001b[1;34m\"w\"\u001b[0m\u001b[1;33m,\u001b[0m \u001b[0mlinewidth\u001b[0m\u001b[1;33m=\u001b[0m\u001b[1;36m2\u001b[0m\u001b[1;33m)\u001b[0m\u001b[1;33m]\u001b[0m\u001b[1;33m)\u001b[0m\u001b[1;33m\u001b[0m\u001b[0m\n\u001b[0m\u001b[0;32m      7\u001b[0m \u001b[1;33m\u001b[0m\u001b[0m\n\u001b[0;32m      8\u001b[0m \u001b[1;32mfor\u001b[0m \u001b[0mp\u001b[0m \u001b[1;32min\u001b[0m \u001b[0mpgg\u001b[0m\u001b[1;33m:\u001b[0m \u001b[1;31m# plot all realizations\u001b[0m\u001b[1;33m\u001b[0m\u001b[0m\n",
      "\u001b[1;31mNameError\u001b[0m: name 'withStroke' is not defined"
     ]
    }
   ],
   "source": [
    "pgg = px + py # the total photon survival probability\n",
    "\n",
    "print (pgg.shape)\n",
    "print (np.min(np.median(pgg, axis = 0)))\n",
    "print (np.min(np.max(pgg, axis = 0)))\n",
    "effect = dict(path_effects=[withStroke(foreground=\"w\", linewidth=2)])\n",
    "\n",
    "for p in pgg: # plot all realizations\n",
    "    plt.semilogx(m.EGeV, p)\n",
    "\n",
    "#plt.xlabel('Energy (GeV)')\n",
    "#plt.ylabel('Photon survival probability')\n",
    "#plt.legend(loc = 0, fontsize = 'medium')\n",
    "#\n",
    "#plt.annotate(r'$m_a = {0:.1f}\\,\\mathrm{{neV}}, g_{{a\\gamma}} = {1:.1f} \\times 10^{{-11}}\\,\\mathrm{{GeV}}^{{-1}}$'.format(m.alp.m,m.alp.g),\n",
    "#             xy = (0.95,0.1), size = 'x-large', xycoords = 'axes fraction', ha = 'right',**effect)\n",
    "#\n",
    "#plt.gca().set_xscale('log')\n",
    "#plt.gca().set_yscale('log')\n",
    "#plt.subplots_adjust(left = 0.2)\n",
    "#plt.savefig(\"pgg.png\", dpi = 150)\n"
   ]
  },
  {
   "cell_type": "code",
   "execution_count": null,
   "id": "132e620f",
   "metadata": {},
   "outputs": [],
   "source": []
  }
 ],
 "metadata": {
  "kernelspec": {
   "display_name": "Python 3",
   "language": "python",
   "name": "python3"
  },
  "language_info": {
   "codemirror_mode": {
    "name": "ipython",
    "version": 3
   },
   "file_extension": ".py",
   "mimetype": "text/x-python",
   "name": "python",
   "nbconvert_exporter": "python",
   "pygments_lexer": "ipython3",
   "version": "3.7.0"
  }
 },
 "nbformat": 4,
 "nbformat_minor": 5
}
